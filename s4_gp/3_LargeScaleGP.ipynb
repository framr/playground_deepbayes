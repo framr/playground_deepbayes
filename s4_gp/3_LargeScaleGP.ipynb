{
 "cells": [
  {
   "cell_type": "markdown",
   "metadata": {
    "slideshow": {
     "slide_type": "slide"
    }
   },
   "source": [
    "### Large-scale GP\n",
    "\n",
    "Predictive mean and variance of GPR model:\n",
    "$$\n",
    "m(x_*) = \\mathbf{k}^T \\mathbf{K}_y^{-1} \\mathbf{y},\n",
    "$$\n",
    "$$\n",
    "\\sigma^2(x_*) = k(x_*, x_*) - \\mathbf{k}^T\\mathbf{K}_y^{-1}\\mathbf{k}\n",
    "$$\n",
    "\n",
    "**Issue**: the computational complexity is $\\mathcal{O}(N^3)$, where $N$ is the training size."
   ]
  },
  {
   "cell_type": "markdown",
   "metadata": {
    "slideshow": {
     "slide_type": "slide"
    }
   },
   "source": [
    "### Nystrom approximation\n",
    "\n",
    "Idea: introduce inducing points $(X_u, \\mathbf{u})$ which are used for low-rank approximation of covariance matrix:\n",
    "$$\n",
    "\\mathbf{K} \\approx \\mathbf{K}_{NM} \\mathbf{K}_{MM}^{-1} \\mathbf{K}_{MN}, \\quad \\mathbf{K}_{NM} = k(X, X_u), \\mathbf{K}_{MM} = k(X_u, X_u), \\mathbf{K}_{MN} = k(X_u, X)\n",
    "$$\n",
    "\n",
    "Predictive distribtion:\n",
    "$$\n",
    "f_* \\; | \\; x_*, X, \\mathbf{y} \\sim \\mathcal{N}\\left (m(x_*), \\; \\sigma^2(x_*)\\right ),\n",
    "$$\n",
    "$$\n",
    "m(x_*) = \\mathbf{k}^T \\left (\\mathbf{K}_{NM}\\mathbf{K}_{MM}^{-1} \\mathbf{K}_{MN} + \\sigma_n^2 I \\right )^{-1} \\mathbf{y}\n",
    "$$\n",
    "$$\n",
    "\\sigma^2(x_*) = k(x_*, x_*) - \\mathbf{k}^T\\left (\\mathbf{K}_{NM}\\mathbf{K}_{MM}^{-1}\\mathbf{K}_{MN} + \\sigma^2_n I \\right)^{-1} k(x_*, x_*)\n",
    "$$"
   ]
  },
  {
   "cell_type": "markdown",
   "metadata": {
    "slideshow": {
     "slide_type": "slide"
    }
   },
   "source": [
    "Using Woodbury matrix identity we can calculate the inverse more efficiently:\n",
    "$$\n",
    "\\left (\\sigma_n^2 I + \\mathbf{K}_{NM}\\mathbf{K}_{MM}^{-1} \\mathbf{K}_{MN} \\right)^{-1} = \\sigma_n^{-2} \\left (\n",
    "I - \\mathbf{K}_{NM} \\left (\\sigma_n^2 \\mathbf{K}_{MM} + \\mathbf{K}_{MN} \\mathbf{K}_{NM} \\right )^{-1} \\mathbf{K}_{MN}\n",
    "\\right )\n",
    "$$\n",
    "\n",
    "The computational complexity is $\\mathcal{O}(NM^2)$."
   ]
  },
  {
   "cell_type": "code",
   "execution_count": null,
   "metadata": {
    "collapsed": true,
    "slideshow": {
     "slide_type": "skip"
    }
   },
   "outputs": [],
   "source": [
    "from __future__ import print_function\n",
    "\n",
    "import pandas as pd\n",
    "import numpy as np\n",
    "import GPy\n",
    "from sklearn.model_selection import train_test_split\n",
    "from sklearn.metrics import mean_squared_error, r2_score\n",
    "from sklearn.preprocessing import StandardScaler\n",
    "from sklearn.model_selection import cross_val_predict\n",
    "from sklearn.pipeline import Pipeline\n",
    "from sklearn import svm\n",
    "\n",
    "from matplotlib import pyplot\n",
    "\n",
    "%matplotlib notebook"
   ]
  },
  {
   "cell_type": "markdown",
   "metadata": {
    "slideshow": {
     "slide_type": "skip"
    }
   },
   "source": [
    "For convenience we wrap GPy model to have sklearn-like API to use it in `cross_val_predict()` function from sklearn\n",
    "\n",
    "Note, that in this implementation we generate random inducing inputs and fix them. However, inducing points can be optimized."
   ]
  },
  {
   "cell_type": "code",
   "execution_count": null,
   "metadata": {
    "collapsed": true,
    "slideshow": {
     "slide_type": "skip"
    }
   },
   "outputs": [],
   "source": [
    "from sklearn.base import BaseEstimator\n",
    "\n",
    "class SparseGPModel(BaseEstimator):\n",
    "    def __init__(self, kernel, num_inducing=100):\n",
    "        self.kernel_ = kernel\n",
    "        self.num_inducing = num_inducing\n",
    "        \n",
    "    def fit(self, X, y):\n",
    "        idx = np.random.permutation(X.shape[0])\n",
    "        Z = X[idx[:self.num_inducing]]\n",
    "        self.model_ = GPy.models.SparseGPRegression(X, y, kernel=self.kernel_, Z=Z)\n",
    "        self.model_.inducing_inputs.fix()\n",
    "\n",
    "        self.model_.optimize(max_iters=100)\n",
    "        \n",
    "    def predict(self, X):\n",
    "        prediction, _ = self.model_.predict(X)\n",
    "        return prediction\n",
    "        \n",
    "    def score(self, X, y):\n",
    "        prediction = self.predict(X)\n",
    "        return r2_score(y, prediction)"
   ]
  },
  {
   "cell_type": "markdown",
   "metadata": {
    "slideshow": {
     "slide_type": "skip"
    }
   },
   "source": [
    "Let's load house pricing data again."
   ]
  },
  {
   "cell_type": "code",
   "execution_count": null,
   "metadata": {
    "collapsed": true,
    "slideshow": {
     "slide_type": "skip"
    }
   },
   "outputs": [],
   "source": [
    "data = np.loadtxt('house_pricing.csv')\n",
    "\n",
    "scaler = StandardScaler()\n",
    "\n",
    "X = scaler.fit_transform(data[:, :-1])\n",
    "y = data[:, -1:]\n",
    "y_log = np.log(y)\n",
    "\n",
    "X_train, X_test, y_train, y_test = train_test_split(X, y, train_size=0.8, random_state=42)"
   ]
  },
  {
   "cell_type": "code",
   "execution_count": null,
   "metadata": {
    "collapsed": true,
    "scrolled": false,
    "slideshow": {
     "slide_type": "skip"
    }
   },
   "outputs": [],
   "source": [
    "%%time\n",
    "kernel = GPy.kern.RBF(X.shape[1])\n",
    "\n",
    "model = SparseGPModel(kernel, num_inducing=100)\n",
    "prediction = cross_val_predict(model, X, np.log1p(y), cv=3, n_jobs=1)"
   ]
  },
  {
   "cell_type": "code",
   "execution_count": null,
   "metadata": {
    "collapsed": true,
    "slideshow": {
     "slide_type": "skip"
    }
   },
   "outputs": [],
   "source": [
    "prediction = np.expm1(prediction)\n",
    "R2 = r2_score(y, prediction)\n",
    "print(R2)\n",
    "\n",
    "def scatter_plot(y_test, prediction):\n",
    "    pyplot.plot([y_test.min(), y_test.max()], [y_test.min(), y_test.max()], '--k')\n",
    "    pyplot.scatter(y_test, prediction)\n",
    "    pyplot.xlabel('Actual value')\n",
    "    pyplot.ylabel('Predicted value')\n",
    "    pyplot.show()\n",
    "    \n",
    "scatter_plot(y, prediction)"
   ]
  },
  {
   "cell_type": "markdown",
   "metadata": {
    "slideshow": {
     "slide_type": "skip"
    }
   },
   "source": [
    "### Task\n",
    "\n",
    "For different number of inducing points (100, 200, 300, 500) build GP model and plot figure of how model accuracy and building time changes."
   ]
  },
  {
   "cell_type": "code",
   "execution_count": null,
   "metadata": {
    "collapsed": true,
    "slideshow": {
     "slide_type": "skip"
    }
   },
   "outputs": [],
   "source": [
    "######## Your code here ########\n",
    "import time\n",
    "\n",
    "n_inducing = [100, 200, 300, 500]\n",
    "errors = []\n",
    "times = []\n"
   ]
  },
  {
   "cell_type": "markdown",
   "metadata": {
    "slideshow": {
     "slide_type": "skip"
    }
   },
   "source": [
    "Plot figures"
   ]
  },
  {
   "cell_type": "code",
   "execution_count": null,
   "metadata": {
    "collapsed": true,
    "scrolled": false,
    "slideshow": {
     "slide_type": "skip"
    }
   },
   "outputs": [],
   "source": [
    "figure, ax = pyplot.subplots(1, 2, figsize=(6, 3))\n",
    "ax[0].plot(n_inducing, errors, '.', label='R2')\n",
    "ax[0].plot(n_inducing, errors, '-', label='R2')\n",
    "ax[1].plot(n_inducing, times, '.', label='Training time')\n",
    "ax[1].plot(n_inducing, times, '-', label='Training time')\n",
    "figure.tight_layout()\n",
    "pyplot.show()"
   ]
  },
  {
   "cell_type": "markdown",
   "metadata": {
    "slideshow": {
     "slide_type": "slide"
    }
   },
   "source": [
    "### Random Fourier Features\n",
    "\n",
    "Idea: shift-invariant kernel can be represented as\n",
    "$$\n",
    "k(x, y) = k(x - y) = \\int p(w) e^{jw^T(x - y)} dw\n",
    "$$\n",
    "\n",
    "Let's calculate integral approximately by Monte Carlo\n",
    "$$\n",
    "k(x, y) \\approx \\frac{1}{M} \\sum_{i=1}^M \\phi_i^T(x) \\phi_i(y),\n",
    "$$\n",
    "where $\\phi_i(x) = \\sqrt{2}\\cos(w^Tx + b)$, $w \\sim p(w), b \\sim Uniform([0, 2\\pi])$.\n",
    "\n",
    "This means that the covariance matrix is approximated by $\\mathbf{K} = \\Phi \\Phi^T$, where $\\Phi = \\|\\boldsymbol{\\phi}(x_i)\\|_{i = 1}^N, \\quad \\boldsymbol{\\phi}(x) = (\\phi_1(x), \\ldots, \\phi_M(x))$"
   ]
  },
  {
   "cell_type": "markdown",
   "metadata": {
    "slideshow": {
     "slide_type": "slide"
    }
   },
   "source": [
    "So, go back from functional space view to weight-space view:\n",
    "$$\n",
    "y = \\beta^T\\phi(x) + \\varepsilon, \\quad \\beta \\sim \\mathcal{N}(0, \\; \\Sigma), \\quad \\varepsilon \\sim \\mathcal{N}(0, \\; \\sigma_n^2)\n",
    "$$\n",
    "The predictive distribution in this case:\n",
    "$$\n",
    "f_* \\; | \\; x_*, X, \\mathbf{y} = \\mathcal{N}\\left (\\frac{1}{\\sigma_n^2}\\boldsymbol{\\phi}(x_*)^TA^{-1}\\Phi^T \\mathbf{y},\\;\n",
    "\\boldsymbol{\\phi}(x_*)^T A^{-1}\\boldsymbol{\\phi}(x_*)\n",
    "\\right ), \\quad A = \\sigma_n^{-2}\\Phi^T \\Phi + \\Sigma^{-1}\n",
    "$$\n",
    "The computational complexity is $\\mathcal{O}(NM^2)$."
   ]
  },
  {
   "cell_type": "markdown",
   "metadata": {},
   "source": [
    "### Task\n",
    "\n",
    "Implement generation of RFF"
   ]
  },
  {
   "cell_type": "code",
   "execution_count": null,
   "metadata": {
    "collapsed": true,
    "slideshow": {
     "slide_type": "skip"
    }
   },
   "outputs": [],
   "source": [
    "from sklearn.base import BaseEstimator\n",
    "from sklearn.exceptions import NotFittedError\n",
    "from scipy.stats import cauchy, laplace\n",
    "from sklearn.metrics.pairwise import rbf_kernel, laplacian_kernel\n",
    "\n",
    "\n",
    "class RFF(BaseEstimator):\n",
    "    def __init__(self, gamma=1, n_components=50, kernel=\"rbf\"):\n",
    "        self.gamma = gamma\n",
    "        self.kernel = kernel\n",
    "        # Number of features (Monte Carlo samples)\n",
    "        self.n_components = n_components\n",
    "        self.fitted = False\n",
    "        \n",
    "    def fit(self, X, y=None):\n",
    "        \"\"\" Generates MonteCarlo random samples \"\"\"\n",
    "        d = X.shape[1]\n",
    "        \n",
    "        ######## Your coder here ########\n",
    "        #Generate D iid samples from p(w)\n",
    "        \n",
    "        if self.kernel == \"rbf\": # for RBF kernel p(w) ~ exp(-gamma * w^2)\n",
    "            self.w = \n",
    "        elif self.kernel == \"laplace\": # for Laplace distribution p(w) ~ Cauchy(gamma)\n",
    "            self.w = \n",
    "        \n",
    "        #Generate D iid samples from Uniform(0,2*pi) \n",
    "        self.u = \n",
    "        self.fitted = True\n",
    "        return self\n",
    "    \n",
    "    def transform(self, X):\n",
    "        \"\"\" Transforms the data X (n_samples, n_features) to the new map space Z(X) (n_samples, n_components)\"\"\"\n",
    "        if not self.fitted:\n",
    "            raise NotFittedError(\"RBF_MonteCarlo must be fitted beform computing the feature map Z\")\n",
    "        \n",
    "        ######## Your coder here ########\n",
    "        #Compute feature map Z(x):\n",
    "        Z = \n",
    "        return Z\n",
    "    \n",
    "    def compute_kernel(self, X):\n",
    "        \"\"\" Computes the approximated kernel matrix K \"\"\"\n",
    "        if not self.fitted:\n",
    "            raise NotFittedError(\"RBF_MonteCarlo must be fitted beform computing the kernel matrix\")\n",
    "        Z = self.transform(X)\n",
    "        K = Z.dot(Z.T)\n",
    "        return K"
   ]
  },
  {
   "cell_type": "markdown",
   "metadata": {},
   "source": [
    "Now, generate 100 random points from [0, 1]^d, calculate exact kernel matrix for RBF and Exponential kernels,\n",
    "calculate their approximations using RFF and check that they are close."
   ]
  },
  {
   "cell_type": "code",
   "execution_count": null,
   "metadata": {
    "collapsed": true
   },
   "outputs": [],
   "source": [
    "######## Your code here ########\n",
    "dim = 4\n",
    "rbf = GPy.kern.RBF(dim, lengthscale=1 / np.sqrt(2)).K\n",
    "\n",
    "exponential = GPy.kern.Exponential(dim).K\n",
    "\n",
    "np.random.seed(42)\n",
    "x = np.random.rand(100, dim)\n",
    "\n",
    "######## Your code here ########\n",
    "# 1. Calculate exact kernel matrix for RBF kernel and Exponential kernels\n",
    "# 2. Calculate approximations using RFF\n",
    "# 3. Calculate approximation error ||K_exact - K_approx|| / ||K_exact|| and check whether the norm is small\n"
   ]
  },
  {
   "cell_type": "markdown",
   "metadata": {
    "slideshow": {
     "slide_type": "skip"
    }
   },
   "source": [
    "### Task\n",
    "\n",
    "For different number of inducing points (100, 200, 300, 500) build GP model and plot figure of how model accuracy and building time changes."
   ]
  },
  {
   "cell_type": "code",
   "execution_count": null,
   "metadata": {
    "collapsed": true,
    "slideshow": {
     "slide_type": "skip"
    }
   },
   "outputs": [],
   "source": [
    "######## Your code here ########\n",
    "# Hint: use Pipeline from sklearn\n",
    "\n",
    "n_inducing = [100, 200, 300, 500]\n",
    "errors = []\n",
    "times = []\n"
   ]
  },
  {
   "cell_type": "markdown",
   "metadata": {
    "slideshow": {
     "slide_type": "skip"
    }
   },
   "source": [
    "Plot figures"
   ]
  },
  {
   "cell_type": "code",
   "execution_count": null,
   "metadata": {
    "collapsed": true,
    "slideshow": {
     "slide_type": "skip"
    }
   },
   "outputs": [],
   "source": [
    "figure, ax = pyplot.subplots(1, 2, figsize=(6, 3))\n",
    "ax[0].plot(n_inducing, errors, '.', label='R2')\n",
    "ax[0].plot(n_inducing, errors, '-', label='R2')\n",
    "ax[0].legend(loc='best')\n",
    "ax[1].plot(n_inducing, times, '.', label='Training time')\n",
    "ax[1].plot(n_inducing, times, '-', label='Training time')\n",
    "ax[1].legend(loc='best')\n",
    "figure.tight_layout()\n",
    "\n",
    "pyplot.show()"
   ]
  },
  {
   "cell_type": "code",
   "execution_count": null,
   "metadata": {
    "collapsed": true
   },
   "outputs": [],
   "source": []
  }
 ],
 "metadata": {
  "kernelspec": {
   "display_name": "Python 3",
   "language": "python",
   "name": "python3"
  },
  "language_info": {
   "codemirror_mode": {
    "name": "ipython",
    "version": 3
   },
   "file_extension": ".py",
   "mimetype": "text/x-python",
   "name": "python",
   "nbconvert_exporter": "python",
   "pygments_lexer": "ipython3",
   "version": "3.5.2"
  }
 },
 "nbformat": 4,
 "nbformat_minor": 2
}
